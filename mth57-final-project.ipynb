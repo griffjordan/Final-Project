{
 "cells": [
  {
   "cell_type": "code",
   "execution_count": 1,
   "id": "qualified-tablet",
   "metadata": {},
   "outputs": [],
   "source": [
    "import pandas as pd\n",
    "import numpy as np\n",
    "%matplotlib inline\n",
    "import matplotlib.pyplot as plt"
   ]
  },
  {
   "cell_type": "markdown",
   "id": "weird-reach",
   "metadata": {},
   "source": [
    "The csv file is fire incidents within the city of pittsburgh. \n",
    "\n",
    "Questions to answer:\n",
    "\n",
    "What are the most frequent types of fires?\n",
    "\n",
    "Which neighborhood has the most fires?\n",
    "\n",
    "Which neighborhood has the least fires?\n",
    "\n",
    "The best neighborhood is?"
   ]
  },
  {
   "cell_type": "code",
   "execution_count": 2,
   "id": "embedded-utility",
   "metadata": {},
   "outputs": [],
   "source": [
    "df = pd.read_csv(\"Fire Incidents.csv\")"
   ]
  },
  {
   "cell_type": "code",
   "execution_count": 3,
   "id": "frank-mainland",
   "metadata": {},
   "outputs": [
    {
     "data": {
      "text/plain": [
       "Cooking fire, confined to container                   1797\n",
       "Building fire                                         1642\n",
       "Passenger vehicle fire                                 895\n",
       "Outside rubbish, trash or waste fire                   604\n",
       "Outside rubbish fire, Other                            430\n",
       "Brush or brush-and-grass mixture fire                  410\n",
       "Dumpster or other outside trash receptacle fire        360\n",
       "Trash or rubbish fire, contained                       358\n",
       "Special outside fire, Other                            200\n",
       "Natural vegetation fire, Other                         195\n",
       "Mobile property (vehicle) fire, Other                  159\n",
       "Fires in structure other than in a building            113\n",
       "Grass fire                                             105\n",
       "Fire, Other                                             95\n",
       "Outside equipment fire                                  58\n",
       "Fuel burner/boiler malfunction, fire confined           52\n",
       "Chimney or flue fire, confined to chimney or flue       42\n",
       "Road freight or transport vehicle fire                  35\n",
       "Forest, woods or wildland fire                          31\n",
       "Construction or demolition landfill fire                23\n",
       "Outside storage fire                                    15\n",
       "Off-road vehicle or heavy equipment fire                13\n",
       "Commercial Compactor fire, confined to rubbish          13\n",
       "Fire in portable building, fixed location               12\n",
       "Outside stationary compactor/compacted trash fire       10\n",
       "Incinerator overload or malfunction, fire confined       6\n",
       "Fire in motor home, camper, recreational vehicle         5\n",
       "Garbage dump or sanitary landfill fire                   5\n",
       "Water vehicle fire                                       5\n",
       "Cultivated vegetation, crop fire, Other                  4\n",
       "Camper or recreational vehicle (RV) fire                 4\n",
       "Fire in mobile home used as fixed residence              3\n",
       "Rail vehicle fire                                        3\n",
       "Fire in mobile prop used as a fixed struc, Other         3\n",
       "Outside mailbox fire                                     3\n",
       "Outside gas or vapor combustion explosion                2\n",
       "Cultivated trees or nursery stock fire                   1\n",
       "Cultivated grain or crop fire                            1\n",
       "Self-propelled motor home or recreational vehicle        1\n",
       "Name: type_description, dtype: int64"
      ]
     },
     "execution_count": 3,
     "metadata": {},
     "output_type": "execute_result"
    }
   ],
   "source": [
    "df[\"type_description\"].value_counts()"
   ]
  },
  {
   "cell_type": "markdown",
   "id": "finnish-dryer",
   "metadata": {},
   "source": [
    "Above is the complete list of the different fire types and the number of times they show up. The code is simply reading the entire column of the different fire types and is counting them up for us. The results are then displayed as seen. \n",
    "\n",
    "Cooking fires and building fires are the most common fire types by a mile. It then drops off after those two with \n",
    "passanger vehicle fires, outside trash or waste fires, and other outside rubbish fires. \n",
    "Below is another way of looking at the above data.\n",
    "\n",
    "The below code reads the fire incidents csv file for its data. It is turned into a variable and the variable is plotted using a bar graph."
   ]
  },
  {
   "cell_type": "code",
   "execution_count": 4,
   "id": "expressed-orlando",
   "metadata": {},
   "outputs": [
    {
     "data": {
      "text/plain": [
       "<AxesSubplot:>"
      ]
     },
     "execution_count": 4,
     "metadata": {},
     "output_type": "execute_result"
    },
    {
     "data": {
      "image/png": "[encoded data removed]",
      "text/plain": [
       "<Figure size 432x288 with 1 Axes>"
      ]
     },
     "metadata": {
      "needs_background": "light"
     },
     "output_type": "display_data"
    }
   ],
   "source": [
    "df = pd.read_csv(\"Fire Incidents.csv\")\n",
    "\n",
    "kind = df[\"type_description\"].value_counts().head()\n",
    "\n",
    "kind.plot.bar()"
   ]
  },
  {
   "cell_type": "code",
   "execution_count": 5,
   "id": "continuous-owner",
   "metadata": {},
   "outputs": [
    {
     "data": {
      "text/plain": [
       "Carrick                      237\n",
       "Central Business District    213\n",
       "Squirrel Hill South          211\n",
       "South Side Flats             208\n",
       "Hazelwood                    206\n",
       "                            ... \n",
       "St. Clair                     11\n",
       "Mt. Oliver                    10\n",
       "East Carnegie                  8\n",
       "Mount Oliver Borough           6\n",
       "Regent Square                  6\n",
       "Name: neighborhood, Length: 91, dtype: int64"
      ]
     },
     "execution_count": 5,
     "metadata": {},
     "output_type": "execute_result"
    }
   ],
   "source": [
    "df[\"neighborhood\"].value_counts()"
   ]
  },
  {
   "cell_type": "markdown",
   "id": "editorial-infrastructure",
   "metadata": {},
   "source": [
    "The code above me is reading the column for neighborhoods and totaling up the amount of times each neighborhood appears in the dataset. It is then added up and displayed. This is the same thing I did above with the different fire types."
   ]
  },
  {
   "cell_type": "code",
   "execution_count": 6,
   "id": "closed-alfred",
   "metadata": {},
   "outputs": [],
   "source": [
    "plot = df[\"neighborhood\"].value_counts().tail()"
   ]
  },
  {
   "cell_type": "markdown",
   "id": "fabulous-renewal",
   "metadata": {},
   "source": [
    "This code is taking the top five neighborhoods with the least fires, and is displaying them in a bar graph."
   ]
  },
  {
   "cell_type": "code",
   "execution_count": 7,
   "id": "surprised-perry",
   "metadata": {},
   "outputs": [
    {
     "data": {
      "text/plain": [
       "<AxesSubplot:>"
      ]
     },
     "execution_count": 7,
     "metadata": {},
     "output_type": "execute_result"
    },
    {
     "data": {
      "image/png": "[encoded data removed]",
      "text/plain": [
       "<Figure size 432x288 with 1 Axes>"
      ]
     },
     "metadata": {
      "needs_background": "light"
     },
     "output_type": "display_data"
    }
   ],
   "source": [
    "plot.plot.bar()"
   ]
  },
  {
   "cell_type": "code",
   "execution_count": 8,
   "id": "solar-dream",
   "metadata": {},
   "outputs": [],
   "source": [
    "lot = df[\"neighborhood\"].value_counts().head()"
   ]
  },
  {
   "cell_type": "markdown",
   "id": "early-depth",
   "metadata": {},
   "source": [
    "This code is taking the top five neighborhoods with the most fires, and is displaying them in a bar graph."
   ]
  },
  {
   "cell_type": "code",
   "execution_count": 9,
   "id": "wanted-universe",
   "metadata": {},
   "outputs": [
    {
     "data": {
      "text/plain": [
       "<AxesSubplot:>"
      ]
     },
     "execution_count": 9,
     "metadata": {},
     "output_type": "execute_result"
    },
    {
     "data": {
      "image/png": "[encoded data removed]",
      "text/plain": [
       "<Figure size 432x288 with 1 Axes>"
      ]
     },
     "metadata": {
      "needs_background": "light"
     },
     "output_type": "display_data"
    }
   ],
   "source": [
    "lot.plot.bar()"
   ]
  },
  {
   "cell_type": "markdown",
   "id": "numerical-galaxy",
   "metadata": {},
   "source": [
    "After reviewing the data, I determined that Cooking Fires, Confined to Container and Building Fires were the most frequent type of fire in the dataset. Carrick to be the worst neighborhood in Pittsburgh, has the highest number of recorded fires, and Regent Square would be the best neighborhood in Pittsburgh, has the lowest number of recorded fires. \n",
    "\n",
    "\n",
    "\n"
   ]
  }
 ],
 "metadata": {
  "kernelspec": {
   "display_name": "Python 3",
   "language": "python",
   "name": "python3"
  },
  "language_info": {
   "codemirror_mode": {
    "name": "ipython",
    "version": 3
   },
   "file_extension": ".py",
   "mimetype": "text/x-python",
   "name": "python",
   "nbconvert_exporter": "python",
   "pygments_lexer": "ipython3",
   "version": "3.7.10"
  }
 },
 "nbformat": 4,
 "nbformat_minor": 5
}
